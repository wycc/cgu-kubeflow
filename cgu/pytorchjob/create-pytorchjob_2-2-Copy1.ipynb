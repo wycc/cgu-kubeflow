{
 "cells": [
  {
   "cell_type": "markdown",
   "metadata": {
    "pycharm": {
     "name": "#%% md\n"
    }
   },
   "source": [
    "# Create PyTorchJob using Kubeflow Training SDK"
   ]
  },
  {
   "cell_type": "markdown",
   "metadata": {
    "pycharm": {
     "name": "#%% md\n"
    }
   },
   "source": [
    "This is a sample for Kubeflow Training SDK `kubeflow-training`.\n",
    "\n",
    "The notebook shows how to use Kubeflow Training SDK to create, get, wait, check and delete PyTorchJob."
   ]
  },
  {
   "cell_type": "markdown",
   "metadata": {
    "tags": []
   },
   "source": [
    "## Install Kubeflow Training Python SDKs\n",
    "\n",
    "You need to install Kubeflow Training SDK to run this Notebook."
   ]
  },
  {
   "cell_type": "code",
   "execution_count": 1,
   "metadata": {
    "execution": {
     "iopub.execute_input": "2024-11-03T11:05:24.070089Z",
     "iopub.status.busy": "2024-11-03T11:05:24.069356Z",
     "iopub.status.idle": "2024-11-03T11:05:30.347156Z",
     "shell.execute_reply": "2024-11-03T11:05:30.344604Z",
     "shell.execute_reply.started": "2024-11-03T11:05:24.070061Z"
    },
    "tags": []
   },
   "outputs": [
    {
     "name": "stdout",
     "output_type": "stream",
     "text": [
      "Collecting git+https://github.com/kubeflow/training-operator.git#subdirectory=sdk/python\n",
      "  Cloning https://github.com/kubeflow/training-operator.git to /tmp/pip-req-build-gr02xvgw\n",
      "  Running command git clone --filter=blob:none --quiet https://github.com/kubeflow/training-operator.git /tmp/pip-req-build-gr02xvgw\n",
      "  Resolved https://github.com/kubeflow/training-operator.git to commit 9e46f9d422e71f258679c5edd306c7eddf9004f1\n",
      "  Preparing metadata (setup.py) ... \u001b[?25ldone\n",
      "\u001b[?25hRequirement already satisfied: certifi>=14.05.14 in /opt/conda/lib/python3.9/site-packages (from kubeflow-training==1.8.1) (2024.8.30)\n",
      "Requirement already satisfied: six>=1.10 in /opt/conda/lib/python3.9/site-packages (from kubeflow-training==1.8.1) (1.16.0)\n",
      "Requirement already satisfied: setuptools>=21.0.0 in /opt/conda/lib/python3.9/site-packages (from kubeflow-training==1.8.1) (65.4.1)\n",
      "Requirement already satisfied: urllib3>=1.15.1 in /opt/conda/lib/python3.9/site-packages (from kubeflow-training==1.8.1) (2.2.3)\n",
      "Requirement already satisfied: kubernetes>=27.2.0 in /opt/conda/lib/python3.9/site-packages (from kubeflow-training==1.8.1) (31.0.0)\n",
      "Requirement already satisfied: retrying>=1.3.3 in /opt/conda/lib/python3.9/site-packages (from kubeflow-training==1.8.1) (1.3.3)\n",
      "Requirement already satisfied: google-auth>=1.0.1 in /opt/conda/lib/python3.9/site-packages (from kubernetes>=27.2.0->kubeflow-training==1.8.1) (2.35.0)\n",
      "Requirement already satisfied: requests in /opt/conda/lib/python3.9/site-packages (from kubernetes>=27.2.0->kubeflow-training==1.8.1) (2.32.3)\n",
      "Requirement already satisfied: python-dateutil>=2.5.3 in /opt/conda/lib/python3.9/site-packages (from kubernetes>=27.2.0->kubeflow-training==1.8.1) (2.8.2)\n",
      "Requirement already satisfied: pyyaml>=5.4.1 in /opt/conda/lib/python3.9/site-packages (from kubernetes>=27.2.0->kubeflow-training==1.8.1) (6.0)\n",
      "Requirement already satisfied: durationpy>=0.7 in /opt/conda/lib/python3.9/site-packages (from kubernetes>=27.2.0->kubeflow-training==1.8.1) (0.9)\n",
      "Requirement already satisfied: websocket-client!=0.40.0,!=0.41.*,!=0.42.*,>=0.32.0 in /opt/conda/lib/python3.9/site-packages (from kubernetes>=27.2.0->kubeflow-training==1.8.1) (1.8.0)\n",
      "Requirement already satisfied: requests-oauthlib in /opt/conda/lib/python3.9/site-packages (from kubernetes>=27.2.0->kubeflow-training==1.8.1) (2.0.0)\n",
      "Requirement already satisfied: oauthlib>=3.2.2 in /opt/conda/lib/python3.9/site-packages (from kubernetes>=27.2.0->kubeflow-training==1.8.1) (3.2.2)\n",
      "Requirement already satisfied: pyasn1-modules>=0.2.1 in /opt/conda/lib/python3.9/site-packages (from google-auth>=1.0.1->kubernetes>=27.2.0->kubeflow-training==1.8.1) (0.4.1)\n",
      "Requirement already satisfied: cachetools<6.0,>=2.0.0 in /opt/conda/lib/python3.9/site-packages (from google-auth>=1.0.1->kubernetes>=27.2.0->kubeflow-training==1.8.1) (5.5.0)\n",
      "Requirement already satisfied: rsa<5,>=3.1.4 in /opt/conda/lib/python3.9/site-packages (from google-auth>=1.0.1->kubernetes>=27.2.0->kubeflow-training==1.8.1) (4.9)\n",
      "Requirement already satisfied: charset-normalizer<4,>=2 in /opt/conda/lib/python3.9/site-packages (from requests->kubernetes>=27.2.0->kubeflow-training==1.8.1) (2.1.1)\n",
      "Requirement already satisfied: idna<4,>=2.5 in /opt/conda/lib/python3.9/site-packages (from requests->kubernetes>=27.2.0->kubeflow-training==1.8.1) (3.4)\n",
      "Requirement already satisfied: pyasn1<0.7.0,>=0.4.6 in /opt/conda/lib/python3.9/site-packages (from pyasn1-modules>=0.2.1->google-auth>=1.0.1->kubernetes>=27.2.0->kubeflow-training==1.8.1) (0.6.1)\n",
      "Building wheels for collected packages: kubeflow-training\n",
      "  Building wheel for kubeflow-training (setup.py) ... \u001b[?25ldone\n",
      "\u001b[?25h  Created wheel for kubeflow-training: filename=kubeflow_training-1.8.1-py3-none-any.whl size=140130 sha256=262bfe27f6fb930f3f4579f4b29b66e2300db0e02ab8a8f20a481b4a35587d81\n",
      "  Stored in directory: /tmp/pip-ephem-wheel-cache-gdv_hr4q/wheels/4e/97/bb/7c46e489ad7772669c94e462b1f545c475d32d70259ba08209\n",
      "Successfully built kubeflow-training\n",
      "Installing collected packages: kubeflow-training\n",
      "Successfully installed kubeflow-training-1.8.1\n",
      "\u001b[33mWARNING: Running pip as the 'root' user can result in broken permissions and conflicting behaviour with the system package manager. It is recommended to use a virtual environment instead: https://pip.pypa.io/warnings/venv\u001b[0m\u001b[33m\n",
      "\u001b[0m"
     ]
    }
   ],
   "source": [
    "# TODO (andreyvelich): Change to release version when SDK with the new APIs is published.\n",
    "!pip install git+https://github.com/kubeflow/training-operator.git#subdirectory=sdk/python"
   ]
  },
  {
   "cell_type": "code",
   "execution_count": 2,
   "metadata": {
    "execution": {
     "iopub.execute_input": "2024-11-03T11:05:30.350986Z",
     "iopub.status.busy": "2024-11-03T11:05:30.350389Z",
     "iopub.status.idle": "2024-11-03T11:05:30.752540Z",
     "shell.execute_reply": "2024-11-03T11:05:30.751237Z",
     "shell.execute_reply.started": "2024-11-03T11:05:30.350926Z"
    },
    "pycharm": {
     "name": "#%%\n"
    },
    "tags": []
   },
   "outputs": [],
   "source": [
    "from kubernetes.client import V1PodTemplateSpec\n",
    "from kubernetes.client import V1ObjectMeta\n",
    "from kubernetes.client import V1PodSpec\n",
    "from kubernetes.client import V1Container\n",
    "from kubernetes.client import V1VolumeMount\n",
    "from kubernetes.client import V1PersistentVolumeClaimVolumeSource\n",
    "from kubernetes.client import V1Volume\n",
    "\n",
    "from kubeflow.training import KubeflowOrgV1ReplicaSpec\n",
    "from kubeflow.training import KubeflowOrgV1PyTorchJob\n",
    "from kubeflow.training import KubeflowOrgV1PyTorchJobSpec\n",
    "from kubeflow.training import KubeflowOrgV1RunPolicy\n",
    "from kubeflow.training import TrainingClient\n",
    "\n",
    "from kubeflow.training import constants"
   ]
  },
  {
   "cell_type": "code",
   "execution_count": 3,
   "metadata": {
    "execution": {
     "iopub.execute_input": "2024-11-03T11:05:30.753409Z",
     "iopub.status.busy": "2024-11-03T11:05:30.753111Z",
     "iopub.status.idle": "2024-11-03T11:05:30.761578Z",
     "shell.execute_reply": "2024-11-03T11:05:30.760445Z",
     "shell.execute_reply.started": "2024-11-03T11:05:30.753389Z"
    },
    "tags": []
   },
   "outputs": [],
   "source": [
    "# get the namespace from environment variable NB_NAMESPACE\n",
    "import os\n",
    "import kubernetes\n",
    "namespace = os.environ.get('NB_NAMESPACE', 'default')\n",
    "def get_my_home():\n",
    "    # get notebook name from the environment variable HOSTNAME, whose value is like 'notebook_name-0'\n",
    "    notebook_name = os.environ.get('HOSTNAME', 'notebook').split('-')[0]\n",
    "\n",
    "    # load cluster configuration\n",
    "    kubernetes.config.load_incluster_config()\n",
    "\n",
    "    # create client for the custom resource definition of notebook\n",
    "    crd_api = kubernetes.client.CustomObjectsApi()\n",
    "\n",
    "    crd_group = 'kubeflow.org'\n",
    "    crd_version = 'v1alpha1'\n",
    "    crd_plural = 'notebooks'\n",
    "\n",
    "    # fetched the notebook object\n",
    "    notebook = crd_api.get_namespaced_custom_object(crd_group, crd_version, namespace, crd_plural, notebook_name)\n",
    "    print(notebook['spec']['template']['spec']['volumes'][0])\n",
    "    # get the first PVC  of the notebook\n",
    "    pvc_name = notebook['spec']['template']['spec']['volumes'][1]['persistentVolumeClaim']['claimName']\n",
    "    print(pvc_name)\n",
    "    return pvc_name"
   ]
  },
  {
   "cell_type": "markdown",
   "metadata": {
    "pycharm": {
     "name": "#%% md\n"
    }
   },
   "source": [
    "## Define PyTorchJob"
   ]
  },
  {
   "cell_type": "markdown",
   "metadata": {
    "pycharm": {
     "name": "#%% md\n"
    }
   },
   "source": [
    "The demo only creates a worker of PyTorchJob to run mnist sample."
   ]
  },
  {
   "cell_type": "code",
   "execution_count": 4,
   "metadata": {
    "execution": {
     "iopub.execute_input": "2024-11-03T11:05:30.762986Z",
     "iopub.status.busy": "2024-11-03T11:05:30.762787Z",
     "iopub.status.idle": "2024-11-03T11:05:30.796876Z",
     "shell.execute_reply": "2024-11-03T11:05:30.795391Z",
     "shell.execute_reply.started": "2024-11-03T11:05:30.762968Z"
    },
    "pycharm": {
     "name": "#%%\n"
    },
    "tags": []
   },
   "outputs": [
    {
     "name": "stdout",
     "output_type": "stream",
     "text": [
      "{'emptyDir': {'medium': 'Memory'}, 'name': 'dshm'}\n",
      "torchjob-workspace\n"
     ]
    }
   ],
   "source": [
    "name = \"pytorch-dist-mnist-gloo\"\n",
    "namespace = \"dm1261010\"\n",
    "container_name = \"pytorch\"\n",
    "\n",
    "volume_mount = V1VolumeMount(\n",
    "    name=\"model-volume\",\n",
    "    mount_path=\"/home/jovyan/\",\n",
    ")\n",
    "\n",
    "volume = V1Volume(\n",
    "    name=\"model-volume\",\n",
    "    persistent_volume_claim=V1PersistentVolumeClaimVolumeSource(claim_name=\"model-data\")\n",
    ")\n",
    "\n",
    "container = V1Container(\n",
    "    name=container_name,\n",
    "    image=\"cguaicadmin/newlab-newpytorch:V1.0.23\",\n",
    "    command=[\"/home/jovyan/test.sh\"],\n",
    "    working_dir=\"/home/jovyan\",\n",
    "    resources={\n",
    "        \"requests\": {\n",
    "            \"cpu\": \"4\",\n",
    "            \"memory\": \"8Gi\",\n",
    "            \"nvidia.com/gpu\": \"1\"\n",
    "        },\n",
    "        \"limits\": {\n",
    "            \"cpu\": \"4\",\n",
    "            \"memory\": \"8Gi\",\n",
    "            \"nvidia.com/gpu\": \"1\"\n",
    "        }\n",
    "    },\n",
    "    volume_mounts=[volume_mount],\n",
    ")\n",
    "\n",
    "pod_spec = V1PodSpec(\n",
    "    containers=[container],\n",
    "    volumes=[volume]\n",
    ")\n",
    "\n",
    "replica_spec = KubeflowOrgV1ReplicaSpec(\n",
    "    replicas=4,\n",
    "    restart_policy=\"OnFailure\",\n",
    "    template=V1PodTemplateSpec(\n",
    "        metadata=V1ObjectMeta(\n",
    "            name=name,\n",
    "            namespace=namespace,\n",
    "            annotations={\n",
    "                \"sidecar.istio.io/inject\": \"false\"\n",
    "            }\n",
    "        ),\n",
    "        spec=V1PodSpec(\n",
    "            containers=[container],\n",
    "            volumes=[V1Volume(\n",
    "                name=\"model-volume\",\n",
    "                persistent_volume_claim=V1PersistentVolumeClaimVolumeSource(claim_name=get_my_home())\n",
    "            )]\n",
    "        )\n",
    "    )\n",
    ")\n",
    "\n",
    "master_replica_spec = KubeflowOrgV1ReplicaSpec(\n",
    "    replicas=1,\n",
    "    restart_policy=\"OnFailure\",\n",
    "    template=V1PodTemplateSpec(\n",
    "        metadata=V1ObjectMeta(\n",
    "            name=name,\n",
    "            namespace=namespace,\n",
    "            annotations={\n",
    "                \"sidecar.istio.io/inject\": \"false\"\n",
    "            }\n",
    "        ),\n",
    "        spec=V1PodSpec(\n",
    "            containers=[container],\n",
    "            volumes=[V1Volume(\n",
    "                name=\"model-volume\",\n",
    "                persistent_volume_claim=V1PersistentVolumeClaimVolumeSource(claim_name=\"torchjob-workspace\")\n",
    "            )]\n",
    "        )\n",
    "    )\n",
    ")\n",
    "\n",
    "pytorchjob = KubeflowOrgV1PyTorchJob(\n",
    "    api_version=constants.API_VERSION,\n",
    "    kind=constants.PYTORCHJOB_KIND,\n",
    "    metadata=V1ObjectMeta(name=name, namespace=namespace),\n",
    "    spec=KubeflowOrgV1PyTorchJobSpec(\n",
    "        run_policy=KubeflowOrgV1RunPolicy(clean_pod_policy=\"None\"),\n",
    "        pytorch_replica_specs={\n",
    "            \"Master\": master_replica_spec,\n",
    "            \"Worker\": replica_spec\n",
    "        },\n",
    "    ),\n",
    ")"
   ]
  },
  {
   "cell_type": "markdown",
   "metadata": {
    "pycharm": {
     "name": "#%% md\n"
    },
    "tags": []
   },
   "source": [
    "## Create PyTorchJob\n",
    "\n",
    "You have to create Training Client to deploy your PyTorchJob in you cluster."
   ]
  },
  {
   "cell_type": "code",
   "execution_count": 5,
   "metadata": {
    "execution": {
     "iopub.execute_input": "2024-11-03T11:05:30.798050Z",
     "iopub.status.busy": "2024-11-03T11:05:30.797790Z",
     "iopub.status.idle": "2024-11-03T11:05:30.829063Z",
     "shell.execute_reply": "2024-11-03T11:05:30.827295Z",
     "shell.execute_reply.started": "2024-11-03T11:05:30.798010Z"
    },
    "pycharm": {
     "name": "#%%\n"
    },
    "tags": []
   },
   "outputs": [],
   "source": [
    "# Namespace will be reused in every APIs.\n",
    "training_client = TrainingClient(namespace=namespace)\n",
    "\n",
    "# If `job_kind` is not set in `TrainingClient`, we need to set it for each API.\n",
    "training_client.create_job(pytorchjob) # , job_kind=constants.PYTORCHJOB_KIND"
   ]
  },
  {
   "cell_type": "markdown",
   "metadata": {
    "pycharm": {
     "name": "#%% md\n"
    }
   },
   "source": [
    "## Get the Created PyTorchJob\n",
    "\n",
    "You can verify the created PyTorchJob name"
   ]
  },
  {
   "cell_type": "code",
   "execution_count": 6,
   "metadata": {
    "execution": {
     "iopub.execute_input": "2024-11-03T11:05:53.811769Z",
     "iopub.status.busy": "2024-11-03T11:05:53.811307Z",
     "iopub.status.idle": "2024-11-03T11:05:53.839317Z",
     "shell.execute_reply": "2024-11-03T11:05:53.838253Z",
     "shell.execute_reply.started": "2024-11-03T11:05:53.811731Z"
    },
    "pycharm": {
     "name": "#%%\n"
    },
    "tags": []
   },
   "outputs": [
    {
     "data": {
      "text/plain": [
       "'pytorch-dist-mnist-gloo'"
      ]
     },
     "execution_count": 6,
     "metadata": {},
     "output_type": "execute_result"
    }
   ],
   "source": [
    "training_client.get_job(name, job_kind=constants.PYTORCHJOB_KIND).metadata.name"
   ]
  },
  {
   "cell_type": "markdown",
   "metadata": {
    "pycharm": {
     "name": "#%% md\n"
    }
   },
   "source": [
    "## Get the PyTorchJob Conditions"
   ]
  },
  {
   "cell_type": "code",
   "execution_count": 8,
   "metadata": {
    "execution": {
     "iopub.execute_input": "2024-11-03T11:11:40.381280Z",
     "iopub.status.busy": "2024-11-03T11:11:40.380625Z",
     "iopub.status.idle": "2024-11-03T11:11:40.439336Z",
     "shell.execute_reply": "2024-11-03T11:11:40.437257Z",
     "shell.execute_reply.started": "2024-11-03T11:11:40.381225Z"
    },
    "pycharm": {
     "name": "#%%\n"
    },
    "tags": []
   },
   "outputs": [
    {
     "data": {
      "text/plain": [
       "[]"
      ]
     },
     "execution_count": 8,
     "metadata": {},
     "output_type": "execute_result"
    }
   ],
   "source": [
    "training_client.get_job_conditions(name=name, job_kind=constants.PYTORCHJOB_KIND)"
   ]
  },
  {
   "cell_type": "markdown",
   "metadata": {
    "pycharm": {
     "name": "#%% md\n"
    }
   },
   "source": [
    "## Wait Until PyTorchJob Finishes"
   ]
  },
  {
   "cell_type": "code",
   "execution_count": null,
   "metadata": {
    "execution": {
     "iopub.status.busy": "2024-10-21T09:27:52.051152Z",
     "iopub.status.idle": "2024-10-21T09:27:52.051414Z",
     "shell.execute_reply": "2024-10-21T09:27:52.051289Z",
     "shell.execute_reply.started": "2024-10-21T09:27:52.051276Z"
    },
    "pycharm": {
     "name": "#%%\n"
    },
    "tags": []
   },
   "outputs": [],
   "source": [
    "pytorchjob = training_client.wait_for_job_conditions(name=name,\n",
    "                                                     job_kind=constants.PYTORCHJOB_KIND,\n",
    "                                                     wait_timeout=900,\n",
    ")\n",
    "\n",
    "print(f\"Succeeded number of replicas: {pytorchjob.status.replica_statuses['Master'].succeeded}\")"
   ]
  },
  {
   "cell_type": "markdown",
   "metadata": {
    "pycharm": {
     "name": "#%% md\n"
    },
    "tags": []
   },
   "source": [
    "## Verify if PyTorchJob is Succeeded"
   ]
  },
  {
   "cell_type": "code",
   "execution_count": null,
   "metadata": {
    "execution": {
     "iopub.status.busy": "2024-10-21T09:27:52.052137Z",
     "iopub.status.idle": "2024-10-21T09:27:52.052384Z",
     "shell.execute_reply": "2024-10-21T09:27:52.052266Z",
     "shell.execute_reply.started": "2024-10-21T09:27:52.052254Z"
    },
    "pycharm": {
     "name": "#%%\n"
    },
    "tags": []
   },
   "outputs": [],
   "source": [
    "training_client.is_job_succeeded(name=name, job_kind=constants.PYTORCHJOB_KIND)"
   ]
  },
  {
   "cell_type": "markdown",
   "metadata": {
    "pycharm": {
     "name": "#%% md\n"
    }
   },
   "source": [
    "## Get the PyTorchJob Training Logs"
   ]
  },
  {
   "cell_type": "code",
   "execution_count": null,
   "metadata": {
    "execution": {
     "iopub.status.busy": "2024-10-21T09:27:52.052950Z",
     "iopub.status.idle": "2024-10-21T09:27:52.053198Z",
     "shell.execute_reply": "2024-10-21T09:27:52.053083Z",
     "shell.execute_reply.started": "2024-10-21T09:27:52.053071Z"
    },
    "pycharm": {
     "name": "#%%\n"
    },
    "tags": []
   },
   "outputs": [],
   "source": [
    "r,_=training_client.get_job_logs(name=name, job_kind=constants.PYTORCHJOB_KIND)\n",
    "lines = r['pytorch-dist-mnist-gloo-master-0']\n",
    "print(lines)\n",
    "for l in lines.split('\\n'):\n",
    "    print(l)"
   ]
  },
  {
   "cell_type": "markdown",
   "metadata": {
    "pycharm": {
     "name": "#%% md\n"
    }
   },
   "source": [
    "## Delete the PyTorchJob"
   ]
  },
  {
   "cell_type": "code",
   "execution_count": 9,
   "metadata": {
    "execution": {
     "iopub.execute_input": "2024-11-03T11:11:55.930933Z",
     "iopub.status.busy": "2024-11-03T11:11:55.930260Z",
     "iopub.status.idle": "2024-11-03T11:11:55.948345Z",
     "shell.execute_reply": "2024-11-03T11:11:55.946624Z",
     "shell.execute_reply.started": "2024-11-03T11:11:55.930869Z"
    },
    "pycharm": {
     "name": "#%%\n"
    },
    "tags": []
   },
   "outputs": [],
   "source": [
    "training_client.delete_job(name)"
   ]
  },
  {
   "cell_type": "code",
   "execution_count": null,
   "metadata": {},
   "outputs": [],
   "source": []
  }
 ],
 "metadata": {
  "kernelspec": {
   "display_name": "Python 3 (ipykernel)",
   "language": "python",
   "name": "python3"
  },
  "language_info": {
   "codemirror_mode": {
    "name": "ipython",
    "version": 3
   },
   "file_extension": ".py",
   "mimetype": "text/x-python",
   "name": "python",
   "nbconvert_exporter": "python",
   "pygments_lexer": "ipython3",
   "version": "3.9.13"
  }
 },
 "nbformat": 4,
 "nbformat_minor": 4
}
